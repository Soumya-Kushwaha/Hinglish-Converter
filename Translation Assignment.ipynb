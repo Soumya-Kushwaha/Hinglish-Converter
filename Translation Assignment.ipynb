{
 "cells": [
  {
   "cell_type": "code",
   "execution_count": 1,
   "id": "23aa87f4",
   "metadata": {},
   "outputs": [],
   "source": [
    "import spacy\n",
    "import re\n",
    "from googletrans import Translator"
   ]
  },
  {
   "cell_type": "code",
   "execution_count": 2,
   "id": "de2af9e5",
   "metadata": {},
   "outputs": [],
   "source": [
    "# loads the English small model from the spaCy library. \n",
    "# This model is a pre-trained language model that can be used for a variety of natural language processing tasks\n",
    "# such as tokenization, part-of-speech tagging, named entity recognition, and dependency parsing.\n",
    "nlp = spacy.load(\"en_core_web_sm\")\n",
    "\n",
    "# a function that translates to hinglish\n",
    "def translate(text):\n",
    "    translator = Translator()\n",
    "    translation = translator.translate(text, src='en', dest='hi')\n",
    "    return translation.text\n",
    "\n",
    "# a function that mainly does the task\n",
    "def hinglishConverter(english):\n",
    "    english_nouns = [token.text for token in nlp(english) if token.pos_ == \"NOUN\"]\n",
    "    hinglish = translate(english)\n",
    "\n",
    "    for noun in english_nouns:\n",
    "        hinglish = hinglish.replace(translate(noun), noun)\n",
    "\n",
    "    return hinglish"
   ]
  },
  {
   "cell_type": "code",
   "execution_count": 3,
   "id": "db246654",
   "metadata": {},
   "outputs": [
    {
     "name": "stdout",
     "output_type": "stream",
     "text": [
      "Hinglish translation: मेरे पास इस नए headset का उपयोग करके लगभग 30 minute का demo था।\n"
     ]
    }
   ],
   "source": [
    "# Test the function with the provided example\n",
    "english = \"I had about a 30 minute demo just using this new headset.\"\n",
    "hinglish = hinglishConverter(english)\n",
    "print(\"Hinglish translation:\", hinglish)"
   ]
  },
  {
   "cell_type": "code",
   "execution_count": 4,
   "id": "e281a914",
   "metadata": {},
   "outputs": [
    {
     "name": "stdout",
     "output_type": "stream",
     "text": [
      "English: 1. Definitely share your feedback in the comment section.\n",
      "Hinglish: 1. निश्चित रूप से comment section में अपनी feedback साझा करें।\n",
      "\n",
      "English: 2. So even if it's a big video, I will clearly mention all the products.\n",
      "Hinglish: 2. तो भले ही यह एक बड़ा video है, मैं स्पष्ट रूप से सभी products का उल्लेख करूंगा।\n",
      "\n",
      "English: 3. I was waiting for my bag.\n",
      "Hinglish: 3. मैं अपने बैग का इंतजार कर रहा था।\n",
      "\n"
     ]
    }
   ],
   "source": [
    "# Assignment tasks:\n",
    "\n",
    "assignment = [\n",
    "    \"1. Definitely share your feedback in the comment section.\",\n",
    "    \"2. So even if it's a big video, I will clearly mention all the products.\",\n",
    "    \"3. I was waiting for my bag.\",\n",
    "]\n",
    "\n",
    "for tasks in assignment:\n",
    "    # Translate each English sentence to Hinglish and print the results\n",
    "    hinglish = hinglishConverter(tasks)\n",
    "    \n",
    "    print(f\"English: {tasks}\")\n",
    "    print(f\"Hinglish: {hinglish}\")\n",
    "    print()"
   ]
  },
  {
   "cell_type": "code",
   "execution_count": null,
   "id": "70ad60b0",
   "metadata": {},
   "outputs": [],
   "source": []
  }
 ],
 "metadata": {
  "kernelspec": {
   "display_name": "Python 3 (ipykernel)",
   "language": "python",
   "name": "python3"
  },
  "language_info": {
   "codemirror_mode": {
    "name": "ipython",
    "version": 3
   },
   "file_extension": ".py",
   "mimetype": "text/x-python",
   "name": "python",
   "nbconvert_exporter": "python",
   "pygments_lexer": "ipython3",
   "version": "3.10.0"
  }
 },
 "nbformat": 4,
 "nbformat_minor": 5
}
